{
 "cells": [
  {
   "cell_type": "code",
   "execution_count": 1,
   "metadata": {},
   "outputs": [],
   "source": [
    "import numpy as np\n",
    "import torch\n",
    "import torch.nn.functional as F\n",
    "from transformers import GPT2Tokenizer, GPT2LMHeadModel\n",
    "from random import choice"
   ]
  },
  {
   "cell_type": "code",
   "execution_count": 2,
   "metadata": {},
   "outputs": [],
   "source": [
    "tok = GPT2Tokenizer.from_pretrained(\"gpt2\")\n",
    "model = GPT2LMHeadModel.from_pretrained(\"gpt2\")"
   ]
  },
  {
   "cell_type": "code",
   "execution_count": 3,
   "metadata": {},
   "outputs": [],
   "source": [
    "def make_pred(text, model, tok, p=0.7):\n",
    "    input_ids = torch.tensor(tok.encode(text)).unsqueeze(0)\n",
    "    logits = model(input_ids)[0][:, -1]\n",
    "    probs = F.softmax(logits, dim=-1).squeeze()\n",
    "    idxs = torch.argsort(probs, descending=True)\n",
    "    res, cumsum = [], 0.\n",
    "    for idx in idxs:\n",
    "        res.append(idx)\n",
    "        cumsum += probs[idx]\n",
    "        if cumsum > p:\n",
    "            c = choice(res)\n",
    "            pred_idx = idxs.new_tensor([c])\n",
    "            break\n",
    "    return tok.decode(int(pred_idx))"
   ]
  },
  {
   "cell_type": "code",
   "execution_count": 5,
   "metadata": {},
   "outputs": [
    {
     "name": "stdout",
     "output_type": "stream",
     "text": [
      "Artificial intelligence research and robotics, specifically related to humans and animals, has long been popular with investors. At $25 billion in total funding in 2015, investment is now hovering around $25 billion, more than half the global average.\n",
      "\n",
      " However, AI-enabled\n",
      "CPU times: user 35.4 s, sys: 101 ms, total: 35.5 s\n",
      "Wall time: 4.78 s\n"
     ]
    }
   ],
   "source": [
    "%%time\n",
    "\n",
    "text = \"Artificial intelligence\"\n",
    "for _ in range(50):\n",
    "    text = text + make_pred(text, model, tok)\n",
    "    \n",
    "print(text)"
   ]
  },
  {
   "cell_type": "code",
   "execution_count": null,
   "metadata": {},
   "outputs": [],
   "source": []
  }
 ],
 "metadata": {
  "kernelspec": {
   "display_name": ".venv",
   "language": "python",
   "name": ".venv"
  },
  "language_info": {
   "codemirror_mode": {
    "name": "ipython",
    "version": 3
   },
   "file_extension": ".py",
   "mimetype": "text/x-python",
   "name": "python",
   "nbconvert_exporter": "python",
   "pygments_lexer": "ipython3",
   "version": "3.6.8"
  }
 },
 "nbformat": 4,
 "nbformat_minor": 4
}
